{
  "nbformat": 4,
  "nbformat_minor": 0,
  "metadata": {
    "colab": {
      "name": "birds_ai_deforestation.ipynb",
      "provenance": []
    },
    "kernelspec": {
      "name": "python3",
      "display_name": "Python 3"
    },
    "language_info": {
      "name": "python"
    }
  },
  "cells": [
    {
      "cell_type": "code",
      "metadata": {
        "id": "hTN0aUdLlJTZ"
      },
      "source": [
        "import pandas as pd\n",
        "import numpy as np\n",
        "import matplotlib.pyplot as plt\n",
        "import seaborn as sns\n",
        "from sklearn.linear_model import Lasso\n",
        "from sklearn.linear_model import Ridge"
      ],
      "execution_count": 16,
      "outputs": []
    },
    {
      "cell_type": "code",
      "metadata": {
        "id": "FwYEo_vWlLk1"
      },
      "source": [
        "# Uploading all datasets\n",
        "wid_raw = pd.read_csv('/content/drive/MyDrive/techlabs/wid/WDIData.csv')\n",
        "lifestock = pd.read_csv('/content/drive/MyDrive/techlabs/lifestock.csv', index_col='Date')\n",
        "soyworld = pd.read_csv('/content/drive/MyDrive/techlabs/soy-production-yield-area.csv')\n",
        "palmoil = pd.read_csv('/content/drive/MyDrive/techlabs/land-use-palm-oil.csv')\n",
        "land_use = pd.read_csv('/content/drive/MyDrive/techlabs/land_use.csv')"
      ],
      "execution_count": 17,
      "outputs": []
    },
    {
      "cell_type": "code",
      "metadata": {
        "colab": {
          "base_uri": "https://localhost:8080/"
        },
        "id": "IBm3J6RflRov",
        "outputId": "0a1906f3-4045-4f3d-add3-e1f51ce1d817"
      },
      "source": [
        "# Merge datasets in one dataset\n",
        "soy = soyworld[(soyworld['Entity'] == 'Brazil')]\n",
        "soy.drop(columns=['Entity', 'Code', 'Crops - Soybeans - 236 - Production - 5510 - tonnes', 'Crops - Soybeans - 236 - Yield - 5419 - hg/ha'], inplace=True)\n",
        "soy.set_index('Year', inplace=True)\n",
        "soy = soy.loc[1990:2018,:]\n",
        "\n",
        "palm = palmoil[(palmoil['Entity'] == 'Brazil')]\n",
        "palm.drop(columns=['Entity', 'Code'], inplace=True)\n",
        "palm.set_index('Year', inplace=True)\n",
        "palm = palm.loc[1990:2018,:]\n",
        "\n",
        "brazil = wid_raw[(wid_raw['Country Name'] =='Brazil')]\n",
        "brazil_new = brazil.drop(columns = ['Country Name', 'Country Code', 'Indicator Code'])\n",
        "bra = brazil_new.T\n",
        "header=bra.iloc[0]\n",
        "bra=bra[1:]\n",
        "bra.columns=header\n",
        "useful_info = bra[[\"Agricultural land (sq. km)\", \"Crop production index (2014-2016 = 100)\", \"Land under cereal production (hectares)\", \"Land area (sq. km)\", \"Forest area (sq. km)\", \"Arable land (hectares)\"]]\n",
        "#\"Forest area (% of land area)\", \"Arable land (hectares per person)\", \"Agricultural land (% of land area)\", \"Permanent cropland (% of land area)\", \"Arable land (% of land area)\", \"Cereal yield (kg per hectare)\", \"Cereal production (metric tons)\n",
        "info = useful_info.iloc[30:59, :]\n",
        "info.index.set_names('Date', inplace=True)\n",
        "new_index = info.index.astype('int64')\n",
        "info.set_index(new_index, inplace=True)\n",
        "info = info.astype(float)\n",
        "# Brazil \tLivestock production index (2004-2006 = 100) \tIndex, 2004-2006 = 100\n",
        "lifestock.drop(columns=['country', 'series', 'Unit'], inplace=True)\n",
        "lifestock = lifestock.iloc[29:,]\n",
        "lifestock = lifestock.rename(columns={'Value': 'Livestock production index'})\n",
        "info = info.rename(columns={'Crop production index (2014-2016 = 100)': 'Crop production index'})\n",
        "\n",
        "land_use.drop(columns=['Domain Code', 'Domain', 'Area Code (FAO)', 'Area', 'Element Code', 'Element', 'Item Code', 'Year Code', 'Flag', 'Flag Description'], inplace=True)\n",
        "land_use['Value'] = land_use['Value'] * 1000\n",
        "land_use = land_use.pivot(index='Year', columns='Item', values='Value')\n",
        "land_use = land_use.loc[1990:2018,:]\n",
        "mmm = land_use.dropna(axis=1, how='any')\n",
        "mmm.drop(columns=['Planted Forest', 'Other land', 'Naturally regenerating forest', 'Land area', 'Inland waters', 'Country area', 'Land area equipped for irrigation'], inplace=True)\n",
        "pasture = mmm[['Land under perm. meadows and pastures']]\n",
        "\n",
        "info = pd.concat([info, lifestock, soy, palm, pasture], axis=1)"
      ],
      "execution_count": 18,
      "outputs": [
        {
          "output_type": "stream",
          "text": [
            "/usr/local/lib/python3.7/dist-packages/pandas/core/frame.py:4174: SettingWithCopyWarning: \n",
            "A value is trying to be set on a copy of a slice from a DataFrame\n",
            "\n",
            "See the caveats in the documentation: https://pandas.pydata.org/pandas-docs/stable/user_guide/indexing.html#returning-a-view-versus-a-copy\n",
            "  errors=errors,\n",
            "/usr/local/lib/python3.7/dist-packages/pandas/core/frame.py:4174: SettingWithCopyWarning: \n",
            "A value is trying to be set on a copy of a slice from a DataFrame\n",
            "\n",
            "See the caveats in the documentation: https://pandas.pydata.org/pandas-docs/stable/user_guide/indexing.html#returning-a-view-versus-a-copy\n",
            "  errors=errors,\n"
          ],
          "name": "stderr"
        }
      ]
    },
    {
      "cell_type": "code",
      "metadata": {
        "colab": {
          "base_uri": "https://localhost:8080/",
          "height": 229
        },
        "id": "b4m_iucslXyP",
        "outputId": "57c709de-ebd1-417c-b90c-9b159e42cebc"
      },
      "source": [
        "info.head()"
      ],
      "execution_count": 19,
      "outputs": [
        {
          "output_type": "execute_result",
          "data": {
            "text/html": [
              "<div>\n",
              "<style scoped>\n",
              "    .dataframe tbody tr th:only-of-type {\n",
              "        vertical-align: middle;\n",
              "    }\n",
              "\n",
              "    .dataframe tbody tr th {\n",
              "        vertical-align: top;\n",
              "    }\n",
              "\n",
              "    .dataframe thead th {\n",
              "        text-align: right;\n",
              "    }\n",
              "</style>\n",
              "<table border=\"1\" class=\"dataframe\">\n",
              "  <thead>\n",
              "    <tr style=\"text-align: right;\">\n",
              "      <th></th>\n",
              "      <th>Agricultural land (sq. km)</th>\n",
              "      <th>Crop production index</th>\n",
              "      <th>Land under cereal production (hectares)</th>\n",
              "      <th>Land area (sq. km)</th>\n",
              "      <th>Forest area (sq. km)</th>\n",
              "      <th>Arable land (hectares)</th>\n",
              "      <th>Livestock production index</th>\n",
              "      <th>Crops - Soybeans - 236 - Area harvested - 5312 - ha</th>\n",
              "      <th>Crops - Oil palm fruit - 254 - Area harvested - 5312 - ha</th>\n",
              "      <th>Land under perm. meadows and pastures</th>\n",
              "    </tr>\n",
              "  </thead>\n",
              "  <tbody>\n",
              "    <tr>\n",
              "      <th>1990</th>\n",
              "      <td>2349000.0</td>\n",
              "      <td>41.02</td>\n",
              "      <td>18512400.0</td>\n",
              "      <td>8358140.0</td>\n",
              "      <td>5888980.0</td>\n",
              "      <td>47340000.0</td>\n",
              "      <td>35.82</td>\n",
              "      <td>11487300.0</td>\n",
              "      <td>33000</td>\n",
              "      <td>178444000.0</td>\n",
              "    </tr>\n",
              "    <tr>\n",
              "      <th>1991</th>\n",
              "      <td>2334802.0</td>\n",
              "      <td>41.61</td>\n",
              "      <td>19821126.0</td>\n",
              "      <td>8358140.0</td>\n",
              "      <td>5851170.6</td>\n",
              "      <td>46226000.0</td>\n",
              "      <td>39.13</td>\n",
              "      <td>9616650.0</td>\n",
              "      <td>69316</td>\n",
              "      <td>178295200.0</td>\n",
              "    </tr>\n",
              "    <tr>\n",
              "      <th>1992</th>\n",
              "      <td>2320604.0</td>\n",
              "      <td>44.27</td>\n",
              "      <td>20564117.0</td>\n",
              "      <td>8358140.0</td>\n",
              "      <td>5813361.2</td>\n",
              "      <td>45113000.0</td>\n",
              "      <td>41.12</td>\n",
              "      <td>9441390.0</td>\n",
              "      <td>80932</td>\n",
              "      <td>178146400.0</td>\n",
              "    </tr>\n",
              "    <tr>\n",
              "      <th>1993</th>\n",
              "      <td>2306406.0</td>\n",
              "      <td>44.05</td>\n",
              "      <td>18293707.0</td>\n",
              "      <td>8358140.0</td>\n",
              "      <td>5775551.8</td>\n",
              "      <td>43999000.0</td>\n",
              "      <td>42.51</td>\n",
              "      <td>10635330.0</td>\n",
              "      <td>69714</td>\n",
              "      <td>177997600.0</td>\n",
              "    </tr>\n",
              "    <tr>\n",
              "      <th>1994</th>\n",
              "      <td>2292208.0</td>\n",
              "      <td>47.62</td>\n",
              "      <td>20063935.0</td>\n",
              "      <td>8358140.0</td>\n",
              "      <td>5737742.4</td>\n",
              "      <td>42886000.0</td>\n",
              "      <td>44.99</td>\n",
              "      <td>11525410.0</td>\n",
              "      <td>67388</td>\n",
              "      <td>177848800.0</td>\n",
              "    </tr>\n",
              "  </tbody>\n",
              "</table>\n",
              "</div>"
            ],
            "text/plain": [
              "      Agricultural land (sq. km)  ...  Land under perm. meadows and pastures\n",
              "1990                   2349000.0  ...                            178444000.0\n",
              "1991                   2334802.0  ...                            178295200.0\n",
              "1992                   2320604.0  ...                            178146400.0\n",
              "1993                   2306406.0  ...                            177997600.0\n",
              "1994                   2292208.0  ...                            177848800.0\n",
              "\n",
              "[5 rows x 10 columns]"
            ]
          },
          "metadata": {
            "tags": []
          },
          "execution_count": 19
        }
      ]
    },
    {
      "cell_type": "code",
      "metadata": {
        "id": "8MWbzp6pliPs"
      },
      "source": [
        "# Polish the dataset\n",
        "info['Agricultural land (hectares)'] = info['Agricultural land (sq. km)'] * 100\n",
        "info['Land area (hectares)'] = info['Land area (sq. km)'] * 100\n",
        "info['Forest area (hectares)'] = info['Forest area (sq. km)'] * 100\n",
        "info = info.rename(columns={'Crops - Soybeans - 236 - Area harvested - 5312 - ha': 'Soybeans Area harvested (hectares)'})\n",
        "info = info.rename(columns={'Crops - Oil palm fruit - 254 - Area harvested - 5312 - ha': 'Oil palm fruit Area harvested (hectares)'})\n",
        "info.drop(columns=['Agricultural land (sq. km)', 'Land area (sq. km)', 'Forest area (sq. km)'], inplace=True)"
      ],
      "execution_count": 20,
      "outputs": []
    },
    {
      "cell_type": "code",
      "metadata": {
        "id": "nEavc7PZlj_0"
      },
      "source": [
        "# Convert ha to km2\n",
        "info[['Land under cereal production (hectares)', 'Arable land (hectares)', \n",
        "      'Soybeans Area harvested (hectares)', 'Oil palm fruit Area harvested (hectares)', 'Land under perm. meadows and pastures', \n",
        "      'Agricultural land (hectares)', 'Land area (hectares)', 'Forest area (hectares)']] = info[['Land under cereal production (hectares)', 'Arable land (hectares)', \n",
        "      'Soybeans Area harvested (hectares)', 'Oil palm fruit Area harvested (hectares)', 'Land under perm. meadows and pastures', \n",
        "      'Agricultural land (hectares)', 'Land area (hectares)', 'Forest area (hectares)']] / 100"
      ],
      "execution_count": 21,
      "outputs": []
    },
    {
      "cell_type": "code",
      "metadata": {
        "id": "g0MLHv56wD6g"
      },
      "source": [
        "info = info.rename(columns={'Land under cereal production (hectares)': 'Land under cereal production (km2)', 'Arable land (hectares)': 'Arable land (km2)', \n",
        "                            'Soybeans Area harvested (hectares)': 'Soybeans Area harvested (km2)', 'Oil palm fruit Area harvested (hectares)': 'Oil palm fruit Area harvested (km2)',\n",
        "                            'Agricultural land (hectares)': 'Agricultural land (km2)', 'Land area (hectares)': 'Land area (km2)', 'Forest area (hectares)': 'Forest area (km2)'})"
      ],
      "execution_count": 22,
      "outputs": []
    },
    {
      "cell_type": "code",
      "metadata": {
        "colab": {
          "base_uri": "https://localhost:8080/",
          "height": 939
        },
        "id": "WEwrtZxll-vj",
        "outputId": "c1998cfc-c726-4e02-eea7-46a726e103c7"
      },
      "source": [
        "info.head(30)"
      ],
      "execution_count": 23,
      "outputs": [
        {
          "output_type": "execute_result",
          "data": {
            "text/html": [
              "<div>\n",
              "<style scoped>\n",
              "    .dataframe tbody tr th:only-of-type {\n",
              "        vertical-align: middle;\n",
              "    }\n",
              "\n",
              "    .dataframe tbody tr th {\n",
              "        vertical-align: top;\n",
              "    }\n",
              "\n",
              "    .dataframe thead th {\n",
              "        text-align: right;\n",
              "    }\n",
              "</style>\n",
              "<table border=\"1\" class=\"dataframe\">\n",
              "  <thead>\n",
              "    <tr style=\"text-align: right;\">\n",
              "      <th></th>\n",
              "      <th>Crop production index</th>\n",
              "      <th>Land under cereal production (km2)</th>\n",
              "      <th>Arable land (km2)</th>\n",
              "      <th>Livestock production index</th>\n",
              "      <th>Soybeans Area harvested (km2)</th>\n",
              "      <th>Oil palm fruit Area harvested (km2)</th>\n",
              "      <th>Land under perm. meadows and pastures</th>\n",
              "      <th>Agricultural land (km2)</th>\n",
              "      <th>Land area (km2)</th>\n",
              "      <th>Forest area (km2)</th>\n",
              "    </tr>\n",
              "  </thead>\n",
              "  <tbody>\n",
              "    <tr>\n",
              "      <th>1990</th>\n",
              "      <td>41.02</td>\n",
              "      <td>185124.00</td>\n",
              "      <td>473400.0</td>\n",
              "      <td>35.82</td>\n",
              "      <td>114873.00</td>\n",
              "      <td>330.00</td>\n",
              "      <td>1784440.00</td>\n",
              "      <td>2349000.00</td>\n",
              "      <td>8358140.0</td>\n",
              "      <td>5888980.0</td>\n",
              "    </tr>\n",
              "    <tr>\n",
              "      <th>1991</th>\n",
              "      <td>41.61</td>\n",
              "      <td>198211.26</td>\n",
              "      <td>462260.0</td>\n",
              "      <td>39.13</td>\n",
              "      <td>96166.50</td>\n",
              "      <td>693.16</td>\n",
              "      <td>1782952.00</td>\n",
              "      <td>2334802.00</td>\n",
              "      <td>8358140.0</td>\n",
              "      <td>5851170.6</td>\n",
              "    </tr>\n",
              "    <tr>\n",
              "      <th>1992</th>\n",
              "      <td>44.27</td>\n",
              "      <td>205641.17</td>\n",
              "      <td>451130.0</td>\n",
              "      <td>41.12</td>\n",
              "      <td>94413.90</td>\n",
              "      <td>809.32</td>\n",
              "      <td>1781464.00</td>\n",
              "      <td>2320604.00</td>\n",
              "      <td>8358140.0</td>\n",
              "      <td>5813361.2</td>\n",
              "    </tr>\n",
              "    <tr>\n",
              "      <th>1993</th>\n",
              "      <td>44.05</td>\n",
              "      <td>182937.07</td>\n",
              "      <td>439990.0</td>\n",
              "      <td>42.51</td>\n",
              "      <td>106353.30</td>\n",
              "      <td>697.14</td>\n",
              "      <td>1779976.00</td>\n",
              "      <td>2306406.00</td>\n",
              "      <td>8358140.0</td>\n",
              "      <td>5775551.8</td>\n",
              "    </tr>\n",
              "    <tr>\n",
              "      <th>1994</th>\n",
              "      <td>47.62</td>\n",
              "      <td>200639.35</td>\n",
              "      <td>428860.0</td>\n",
              "      <td>44.99</td>\n",
              "      <td>115254.10</td>\n",
              "      <td>673.88</td>\n",
              "      <td>1778488.00</td>\n",
              "      <td>2292208.00</td>\n",
              "      <td>8358140.0</td>\n",
              "      <td>5737742.4</td>\n",
              "    </tr>\n",
              "    <tr>\n",
              "      <th>1995</th>\n",
              "      <td>48.73</td>\n",
              "      <td>197528.37</td>\n",
              "      <td>425630.0</td>\n",
              "      <td>49.56</td>\n",
              "      <td>116750.05</td>\n",
              "      <td>680.03</td>\n",
              "      <td>1777000.00</td>\n",
              "      <td>2278050.00</td>\n",
              "      <td>8358140.0</td>\n",
              "      <td>5699933.0</td>\n",
              "    </tr>\n",
              "    <tr>\n",
              "      <th>1996</th>\n",
              "      <td>46.18</td>\n",
              "      <td>175197.08</td>\n",
              "      <td>431400.0</td>\n",
              "      <td>52.94</td>\n",
              "      <td>102994.70</td>\n",
              "      <td>729.29</td>\n",
              "      <td>1768507.00</td>\n",
              "      <td>2279087.00</td>\n",
              "      <td>8358140.0</td>\n",
              "      <td>5662123.6</td>\n",
              "    </tr>\n",
              "    <tr>\n",
              "      <th>1997</th>\n",
              "      <td>49.56</td>\n",
              "      <td>177946.86</td>\n",
              "      <td>437170.0</td>\n",
              "      <td>53.11</td>\n",
              "      <td>114864.78</td>\n",
              "      <td>803.45</td>\n",
              "      <td>1760014.00</td>\n",
              "      <td>2280124.00</td>\n",
              "      <td>8358140.0</td>\n",
              "      <td>5624314.2</td>\n",
              "    </tr>\n",
              "    <tr>\n",
              "      <th>1998</th>\n",
              "      <td>50.24</td>\n",
              "      <td>157888.68</td>\n",
              "      <td>442940.0</td>\n",
              "      <td>54.02</td>\n",
              "      <td>133036.56</td>\n",
              "      <td>790.21</td>\n",
              "      <td>1751521.00</td>\n",
              "      <td>2281161.00</td>\n",
              "      <td>8358140.0</td>\n",
              "      <td>5586504.8</td>\n",
              "    </tr>\n",
              "    <tr>\n",
              "      <th>1999</th>\n",
              "      <td>53.34</td>\n",
              "      <td>174351.14</td>\n",
              "      <td>448710.0</td>\n",
              "      <td>58.64</td>\n",
              "      <td>130614.10</td>\n",
              "      <td>777.73</td>\n",
              "      <td>1743028.00</td>\n",
              "      <td>2282198.00</td>\n",
              "      <td>8358140.0</td>\n",
              "      <td>5548695.4</td>\n",
              "    </tr>\n",
              "    <tr>\n",
              "      <th>2000</th>\n",
              "      <td>54.11</td>\n",
              "      <td>176017.18</td>\n",
              "      <td>454480.0</td>\n",
              "      <td>61.25</td>\n",
              "      <td>136567.71</td>\n",
              "      <td>818.81</td>\n",
              "      <td>1734535.00</td>\n",
              "      <td>2283235.00</td>\n",
              "      <td>8358140.0</td>\n",
              "      <td>5510886.0</td>\n",
              "    </tr>\n",
              "    <tr>\n",
              "      <th>2001</th>\n",
              "      <td>57.01</td>\n",
              "      <td>181486.70</td>\n",
              "      <td>460250.0</td>\n",
              "      <td>63.48</td>\n",
              "      <td>139850.99</td>\n",
              "      <td>846.36</td>\n",
              "      <td>1726042.00</td>\n",
              "      <td>2284272.00</td>\n",
              "      <td>8358140.0</td>\n",
              "      <td>5471378.1</td>\n",
              "    </tr>\n",
              "    <tr>\n",
              "      <th>2002</th>\n",
              "      <td>61.22</td>\n",
              "      <td>178834.26</td>\n",
              "      <td>466020.0</td>\n",
              "      <td>67.57</td>\n",
              "      <td>163594.41</td>\n",
              "      <td>783.63</td>\n",
              "      <td>1717549.00</td>\n",
              "      <td>2285309.00</td>\n",
              "      <td>8358140.0</td>\n",
              "      <td>5431870.2</td>\n",
              "    </tr>\n",
              "    <tr>\n",
              "      <th>2003</th>\n",
              "      <td>66.75</td>\n",
              "      <td>199252.61</td>\n",
              "      <td>471790.0</td>\n",
              "      <td>70.44</td>\n",
              "      <td>185247.68</td>\n",
              "      <td>858.89</td>\n",
              "      <td>1709056.00</td>\n",
              "      <td>2286346.00</td>\n",
              "      <td>8358140.0</td>\n",
              "      <td>5392362.3</td>\n",
              "    </tr>\n",
              "    <tr>\n",
              "      <th>2004</th>\n",
              "      <td>68.28</td>\n",
              "      <td>204204.82</td>\n",
              "      <td>477560.0</td>\n",
              "      <td>75.70</td>\n",
              "      <td>215389.90</td>\n",
              "      <td>875.42</td>\n",
              "      <td>1700563.00</td>\n",
              "      <td>2287383.00</td>\n",
              "      <td>8358140.0</td>\n",
              "      <td>5352854.4</td>\n",
              "    </tr>\n",
              "    <tr>\n",
              "      <th>2005</th>\n",
              "      <td>67.38</td>\n",
              "      <td>193130.05</td>\n",
              "      <td>483330.0</td>\n",
              "      <td>77.95</td>\n",
              "      <td>229488.74</td>\n",
              "      <td>879.25</td>\n",
              "      <td>1692070.00</td>\n",
              "      <td>2288420.00</td>\n",
              "      <td>8358140.0</td>\n",
              "      <td>5313346.5</td>\n",
              "    </tr>\n",
              "    <tr>\n",
              "      <th>2006</th>\n",
              "      <td>71.64</td>\n",
              "      <td>184235.82</td>\n",
              "      <td>489140.0</td>\n",
              "      <td>81.17</td>\n",
              "      <td>220473.48</td>\n",
              "      <td>965.09</td>\n",
              "      <td>1683580.00</td>\n",
              "      <td>2289510.00</td>\n",
              "      <td>8358140.0</td>\n",
              "      <td>5273838.6</td>\n",
              "    </tr>\n",
              "    <tr>\n",
              "      <th>2007</th>\n",
              "      <td>77.17</td>\n",
              "      <td>195437.70</td>\n",
              "      <td>495370.0</td>\n",
              "      <td>84.81</td>\n",
              "      <td>205652.79</td>\n",
              "      <td>1020.42</td>\n",
              "      <td>1688128.00</td>\n",
              "      <td>2296718.00</td>\n",
              "      <td>8358140.0</td>\n",
              "      <td>5234330.7</td>\n",
              "    </tr>\n",
              "    <tr>\n",
              "      <th>2008</th>\n",
              "      <td>84.13</td>\n",
              "      <td>208144.08</td>\n",
              "      <td>501590.0</td>\n",
              "      <td>87.47</td>\n",
              "      <td>212463.02</td>\n",
              "      <td>1031.58</td>\n",
              "      <td>1692676.00</td>\n",
              "      <td>2303926.00</td>\n",
              "      <td>8358140.0</td>\n",
              "      <td>5194822.8</td>\n",
              "    </tr>\n",
              "    <tr>\n",
              "      <th>2009</th>\n",
              "      <td>82.58</td>\n",
              "      <td>200775.16</td>\n",
              "      <td>507820.0</td>\n",
              "      <td>87.19</td>\n",
              "      <td>217504.68</td>\n",
              "      <td>1039.04</td>\n",
              "      <td>1697224.00</td>\n",
              "      <td>2311134.00</td>\n",
              "      <td>8358140.0</td>\n",
              "      <td>5155314.9</td>\n",
              "    </tr>\n",
              "    <tr>\n",
              "      <th>2010</th>\n",
              "      <td>88.36</td>\n",
              "      <td>186012.05</td>\n",
              "      <td>514050.0</td>\n",
              "      <td>90.63</td>\n",
              "      <td>233272.96</td>\n",
              "      <td>1064.20</td>\n",
              "      <td>1701772.00</td>\n",
              "      <td>2318342.00</td>\n",
              "      <td>8358140.0</td>\n",
              "      <td>5115807.0</td>\n",
              "    </tr>\n",
              "    <tr>\n",
              "      <th>2011</th>\n",
              "      <td>92.80</td>\n",
              "      <td>192164.41</td>\n",
              "      <td>520270.0</td>\n",
              "      <td>92.66</td>\n",
              "      <td>239686.63</td>\n",
              "      <td>1090.80</td>\n",
              "      <td>1706320.00</td>\n",
              "      <td>2325550.00</td>\n",
              "      <td>8358140.0</td>\n",
              "      <td>5100415.2</td>\n",
              "    </tr>\n",
              "    <tr>\n",
              "      <th>2012</th>\n",
              "      <td>89.81</td>\n",
              "      <td>196112.26</td>\n",
              "      <td>526500.0</td>\n",
              "      <td>94.25</td>\n",
              "      <td>249752.58</td>\n",
              "      <td>1131.35</td>\n",
              "      <td>1710868.00</td>\n",
              "      <td>2332758.00</td>\n",
              "      <td>8358140.0</td>\n",
              "      <td>5085023.4</td>\n",
              "    </tr>\n",
              "    <tr>\n",
              "      <th>2013</th>\n",
              "      <td>97.82</td>\n",
              "      <td>209061.33</td>\n",
              "      <td>532720.0</td>\n",
              "      <td>97.93</td>\n",
              "      <td>279066.75</td>\n",
              "      <td>1086.35</td>\n",
              "      <td>1715416.00</td>\n",
              "      <td>2339966.00</td>\n",
              "      <td>8358140.0</td>\n",
              "      <td>5069631.6</td>\n",
              "    </tr>\n",
              "    <tr>\n",
              "      <th>2014</th>\n",
              "      <td>98.70</td>\n",
              "      <td>218519.34</td>\n",
              "      <td>538950.0</td>\n",
              "      <td>99.89</td>\n",
              "      <td>302737.63</td>\n",
              "      <td>1265.59</td>\n",
              "      <td>1719964.00</td>\n",
              "      <td>2347174.00</td>\n",
              "      <td>8358140.0</td>\n",
              "      <td>5054239.8</td>\n",
              "    </tr>\n",
              "    <tr>\n",
              "      <th>2015</th>\n",
              "      <td>102.68</td>\n",
              "      <td>212037.47</td>\n",
              "      <td>545180.0</td>\n",
              "      <td>100.21</td>\n",
              "      <td>321812.43</td>\n",
              "      <td>1400.82</td>\n",
              "      <td>1724512.00</td>\n",
              "      <td>2354382.00</td>\n",
              "      <td>8358140.0</td>\n",
              "      <td>5038848.0</td>\n",
              "    </tr>\n",
              "    <tr>\n",
              "      <th>2016</th>\n",
              "      <td>98.62</td>\n",
              "      <td>201285.17</td>\n",
              "      <td>551400.0</td>\n",
              "      <td>99.90</td>\n",
              "      <td>331831.19</td>\n",
              "      <td>1355.46</td>\n",
              "      <td>1729060.00</td>\n",
              "      <td>2361590.00</td>\n",
              "      <td>8358140.0</td>\n",
              "      <td>5020821.0</td>\n",
              "    </tr>\n",
              "    <tr>\n",
              "      <th>2017</th>\n",
              "      <td>109.68</td>\n",
              "      <td>226469.62</td>\n",
              "      <td>557620.0</td>\n",
              "      <td>102.42</td>\n",
              "      <td>339598.79</td>\n",
              "      <td>1112.33</td>\n",
              "      <td>1733608.00</td>\n",
              "      <td>2368786.00</td>\n",
              "      <td>8358140.0</td>\n",
              "      <td>5000916.0</td>\n",
              "    </tr>\n",
              "    <tr>\n",
              "      <th>2018</th>\n",
              "      <td>109.10</td>\n",
              "      <td>214459.30</td>\n",
              "      <td>557620.0</td>\n",
              "      <td>106.50</td>\n",
              "      <td>347716.90</td>\n",
              "      <td>1090.44</td>\n",
              "      <td>1733608.01</td>\n",
              "      <td>2368788.01</td>\n",
              "      <td>8358140.0</td>\n",
              "      <td>4990514.0</td>\n",
              "    </tr>\n",
              "  </tbody>\n",
              "</table>\n",
              "</div>"
            ],
            "text/plain": [
              "      Crop production index  ...  Forest area (km2)\n",
              "1990                  41.02  ...          5888980.0\n",
              "1991                  41.61  ...          5851170.6\n",
              "1992                  44.27  ...          5813361.2\n",
              "1993                  44.05  ...          5775551.8\n",
              "1994                  47.62  ...          5737742.4\n",
              "1995                  48.73  ...          5699933.0\n",
              "1996                  46.18  ...          5662123.6\n",
              "1997                  49.56  ...          5624314.2\n",
              "1998                  50.24  ...          5586504.8\n",
              "1999                  53.34  ...          5548695.4\n",
              "2000                  54.11  ...          5510886.0\n",
              "2001                  57.01  ...          5471378.1\n",
              "2002                  61.22  ...          5431870.2\n",
              "2003                  66.75  ...          5392362.3\n",
              "2004                  68.28  ...          5352854.4\n",
              "2005                  67.38  ...          5313346.5\n",
              "2006                  71.64  ...          5273838.6\n",
              "2007                  77.17  ...          5234330.7\n",
              "2008                  84.13  ...          5194822.8\n",
              "2009                  82.58  ...          5155314.9\n",
              "2010                  88.36  ...          5115807.0\n",
              "2011                  92.80  ...          5100415.2\n",
              "2012                  89.81  ...          5085023.4\n",
              "2013                  97.82  ...          5069631.6\n",
              "2014                  98.70  ...          5054239.8\n",
              "2015                 102.68  ...          5038848.0\n",
              "2016                  98.62  ...          5020821.0\n",
              "2017                 109.68  ...          5000916.0\n",
              "2018                 109.10  ...          4990514.0\n",
              "\n",
              "[29 rows x 10 columns]"
            ]
          },
          "metadata": {
            "tags": []
          },
          "execution_count": 23
        }
      ]
    },
    {
      "cell_type": "code",
      "metadata": {
        "colab": {
          "base_uri": "https://localhost:8080/",
          "height": 568
        },
        "id": "szKy-8lFmhgi",
        "outputId": "378d3491-addc-40eb-814a-dbe1111bfffa"
      },
      "source": [
        "# Finding out which features are significant for the forest loss.\n",
        "X = info.drop(columns=['Forest area (km2)'])\n",
        "y = info.iloc[:, [9]]\n",
        "df_columns = info.drop(columns=['Forest area (km2)']).columns\n",
        "lasso = Lasso(alpha=0.1, normalize=True)\n",
        "\n",
        "lasso.fit(X, y)\n",
        "\n",
        "lasso_coef = lasso.coef_\n",
        "print(lasso_coef)\n",
        "\n",
        "plt.plot(range(len(df_columns)), lasso_coef)\n",
        "plt.xticks(range(len(df_columns)), df_columns.values, rotation=90)\n",
        "plt.margins(0.02)\n",
        "plt.show()\n"
      ],
      "execution_count": 24,
      "outputs": [
        {
          "output_type": "stream",
          "text": [
            "[-4.90640762e+03  8.38648209e-01 -4.44661452e+00 -4.73501884e+03\n",
            "  1.59571836e-01 -6.07172562e+01 -8.14540773e-01  4.18600487e+00\n",
            "  0.00000000e+00]\n"
          ],
          "name": "stdout"
        },
        {
          "output_type": "stream",
          "text": [
            "/usr/local/lib/python3.7/dist-packages/sklearn/linear_model/_coordinate_descent.py:476: ConvergenceWarning: Objective did not converge. You might want to increase the number of iterations. Duality gap: 2030103025.8459415, tolerance: 239501837.91483653\n",
            "  positive)\n"
          ],
          "name": "stderr"
        },
        {
          "output_type": "display_data",
          "data": {
            "image/png": "[encoded data removed]",
            "text/plain": [
              "<Figure size 432x288 with 1 Axes>"
            ]
          },
          "metadata": {
            "tags": [],
            "needs_background": "light"
          }
        }
      ]
    },
    {
      "cell_type": "code",
      "metadata": {
        "colab": {
          "base_uri": "https://localhost:8080/",
          "height": 551
        },
        "id": "5DKUupF2myWu",
        "outputId": "9d6a43d5-6c16-48c2-ff84-22dd38dcd69a"
      },
      "source": [
        "# Finding out which 1 more feature is significant\n",
        "X = info.drop(columns=['Forest area (km2)', 'Crop production index', 'Livestock production index'])\n",
        "y = info.iloc[:, [9]]\n",
        "df_columns = info.drop(columns=['Forest area (km2)', 'Crop production index', 'Livestock production index']).columns\n",
        "lasso = Lasso(alpha=0.1, normalize=True)\n",
        "\n",
        "lasso.fit(X, y)\n",
        "\n",
        "lasso_coef = lasso.coef_\n",
        "print(lasso_coef)\n",
        "\n",
        "plt.plot(range(len(df_columns)), lasso_coef)\n",
        "plt.xticks(range(len(df_columns)), df_columns.values, rotation=90)\n",
        "plt.margins(0.02)\n",
        "plt.show()"
      ],
      "execution_count": 25,
      "outputs": [
        {
          "output_type": "stream",
          "text": [
            "[  -0.45839578  -15.05663307    0.11778832 -104.0867336    -4.2360611\n",
            "   12.5545785     0.        ]\n"
          ],
          "name": "stdout"
        },
        {
          "output_type": "stream",
          "text": [
            "/usr/local/lib/python3.7/dist-packages/sklearn/linear_model/_coordinate_descent.py:476: ConvergenceWarning: Objective did not converge. You might want to increase the number of iterations. Duality gap: 6596711087.488548, tolerance: 239501837.91483653\n",
            "  positive)\n"
          ],
          "name": "stderr"
        },
        {
          "output_type": "display_data",
          "data": {
            "image/png": "[encoded data removed]",
            "text/plain": [
              "<Figure size 432x288 with 1 Axes>"
            ]
          },
          "metadata": {
            "tags": [],
            "needs_background": "light"
          }
        }
      ]
    },
    {
      "cell_type": "code",
      "metadata": {
        "colab": {
          "base_uri": "https://localhost:8080/",
          "height": 295
        },
        "id": "cuUTTiXfmJPw",
        "outputId": "6bd54ea6-73c0-47e8-8b04-126ac69e3de0"
      },
      "source": [
        "#Simple scatter plot for Livestock\n",
        "plt.scatter(info['Livestock production index'], info['Forest area (km2)'], color='red')\n",
        "plt.title('Forest area - Livestock production Interaction')\n",
        "plt.xlabel('Livestock production index')\n",
        "plt.ylabel('Forest area (km2)')\n",
        "plt.show()\n"
      ],
      "execution_count": 26,
      "outputs": [
        {
          "output_type": "display_data",
          "data": {
            "image/png": "[encoded data removed]",
            "text/plain": [
              "<Figure size 432x288 with 1 Axes>"
            ]
          },
          "metadata": {
            "tags": [],
            "needs_background": "light"
          }
        }
      ]
    },
    {
      "cell_type": "code",
      "metadata": {
        "colab": {
          "base_uri": "https://localhost:8080/",
          "height": 295
        },
        "id": "xtLDbz1evw1S",
        "outputId": "df5f1ec5-dc58-4e54-d884-0563464a4e04"
      },
      "source": [
        "#Simple scatter plot for Crop production\n",
        "plt.scatter(info['Crop production index'], info['Forest area (km2)'], color='red')\n",
        "plt.title('Forest area - Crop production Interaction')\n",
        "plt.xlabel('Crop production index')\n",
        "plt.ylabel('Forest area (km2)')\n",
        "plt.show()"
      ],
      "execution_count": 27,
      "outputs": [
        {
          "output_type": "display_data",
          "data": {
            "image/png": "[encoded data removed]",
            "text/plain": [
              "<Figure size 432x288 with 1 Axes>"
            ]
          },
          "metadata": {
            "tags": [],
            "needs_background": "light"
          }
        }
      ]
    },
    {
      "cell_type": "code",
      "metadata": {
        "colab": {
          "base_uri": "https://localhost:8080/",
          "height": 295
        },
        "id": "6NP0PcYhv7o5",
        "outputId": "f67e7e8f-762f-40b6-91c4-46be72ffda55"
      },
      "source": [
        "#Simple scatter plot\n",
        "plt.scatter(info['Oil palm fruit Area harvested (km2)'], info['Forest area (km2)'], color='red')\n",
        "plt.title('Forest area - Palm oil production interaction ')\n",
        "plt.xlabel('Palm oil area harvested (km2)')\n",
        "plt.ylabel('Forest area (km2)')\n",
        "plt.show()"
      ],
      "execution_count": 28,
      "outputs": [
        {
          "output_type": "display_data",
          "data": {
            "image/png": "[encoded data removed]",
            "text/plain": [
              "<Figure size 432x288 with 1 Axes>"
            ]
          },
          "metadata": {
            "tags": [],
            "needs_background": "light"
          }
        }
      ]
    },
    {
      "cell_type": "code",
      "metadata": {
        "colab": {
          "base_uri": "https://localhost:8080/",
          "height": 294
        },
        "id": "Pkn4gtYrmgkV",
        "outputId": "3e8b666a-9d96-461d-9195-96a72c5c86ce"
      },
      "source": [
        "# Multiplre lines plot\n",
        "\n",
        "#Create combo chart\n",
        "fig, (ax1, ax2, ax3, ax4)  = plt.subplots(4, 1, sharex=True)\n",
        "#bar plot creation\n",
        "fig.suptitle('Lost of the rainforest and its main causes', fontsize=16)\n",
        "#ax1.set_title('Lost of the rainforest and its main causes', fontsize=16)\n",
        "color = 'yellow'\n",
        "ax1.set_ylabel('Crop', fontsize=16)\n",
        "ax1 = sns.lineplot(ax=ax1, x=info.index, y='Crop production index',  data = info, color=color)\n",
        "#ax1.tick_params(axis='y', color=color)\n",
        "#specify we want to share the same x-axis\n",
        "color = 'tab:red'\n",
        "#line plot creation\n",
        "ax2.set_ylabel('Livestock', fontsize=16)\n",
        "ax2 = sns.lineplot(ax=ax2, x=info.index, y='Livestock production index', data = info, color=color)\n",
        "#ax2.tick_params(axis='y', color=color)\n",
        "color = 'orange'\n",
        "ax3.set_ylabel('Palm oil', fontsize=16)\n",
        "ax3 = sns.lineplot(ax=ax3, x=info.index, y='Oil palm fruit Area harvested (km2)', data = info, color=color)\n",
        "#ax2.tick_params(axis='y', color=color)\n",
        "\n",
        "color = 'tab:green'\n",
        "ax1.set_xlabel('Year', fontsize=16)\n",
        "ax4.set_ylabel('Forest', fontsize=16)\n",
        "ax4 = sns.lineplot(ax=ax4, x=info.index, y='Forest area (km2)', data = info, color=color)\n",
        "#ax3.tick_params(axis='y', color=color)\n",
        "#show plot\n",
        "plt.show()"
      ],
      "execution_count": 29,
      "outputs": [
        {
          "output_type": "display_data",
          "data": {
            "image/png": "[encoded data removed]",
            "text/plain": [
              "<Figure size 432x288 with 4 Axes>"
            ]
          },
          "metadata": {
            "tags": [],
            "needs_background": "light"
          }
        }
      ]
    },
    {
      "cell_type": "markdown",
      "metadata": {
        "id": "OFMnlhZ7KrZK"
      },
      "source": [
        "---\n",
        "Trying out ML  stuff"
      ]
    },
    {
      "cell_type": "code",
      "metadata": {
        "id": "f1TbtckTxoAw"
      },
      "source": [
        "drivers = info[['Forest area (km2)', 'Crop production index', 'Livestock production index']]\n",
        "drivers.reset_index(inplace=True)\n",
        "drivers = drivers.rename(columns = {'index':'Year'})\n",
        "drivers.head()\n",
        "forest = drivers[['Year', 'Forest area (km2)']]\n",
        "crop = drivers[['Year', 'Crop production index']]\n",
        "crop = drivers[['Year', 'Livestock production index']]"
      ],
      "execution_count": 31,
      "outputs": []
    },
    {
      "cell_type": "code",
      "metadata": {
        "id": "9eExQQA2J2Kt"
      },
      "source": [
        "#define training/testing sets\n",
        "from sklearn.preprocessing import scale\n",
        "from sklearn.model_selection import train_test_split\n",
        "from sklearn import preprocessing\n",
        "\n",
        "lab_enc = preprocessing.LabelEncoder()\n",
        "Xe = drivers.drop(columns='Forest area (km2)')\n",
        "ye = drivers[['Forest area (km2)']]\n",
        "X = Xe.astype('int')\n",
        "y = ye.astype('int')\n",
        "X_train, X_test, y_train, y_test = train_test_split(\n",
        "        X, y, train_size=0.75, test_size=0.25, random_state=42)"
      ],
      "execution_count": 33,
      "outputs": []
    },
    {
      "cell_type": "code",
      "metadata": {
        "colab": {
          "base_uri": "https://localhost:8080/",
          "height": 669
        },
        "id": "CBrC4xqHKJT7",
        "outputId": "225d1bf4-b663-4de5-da4b-473b8104e219"
      },
      "source": [
        "X_train"
      ],
      "execution_count": 34,
      "outputs": [
        {
          "output_type": "execute_result",
          "data": {
            "text/html": [
              "<div>\n",
              "<style scoped>\n",
              "    .dataframe tbody tr th:only-of-type {\n",
              "        vertical-align: middle;\n",
              "    }\n",
              "\n",
              "    .dataframe tbody tr th {\n",
              "        vertical-align: top;\n",
              "    }\n",
              "\n",
              "    .dataframe thead th {\n",
              "        text-align: right;\n",
              "    }\n",
              "</style>\n",
              "<table border=\"1\" class=\"dataframe\">\n",
              "  <thead>\n",
              "    <tr style=\"text-align: right;\">\n",
              "      <th></th>\n",
              "      <th>Year</th>\n",
              "      <th>Crop production index</th>\n",
              "      <th>Livestock production index</th>\n",
              "    </tr>\n",
              "  </thead>\n",
              "  <tbody>\n",
              "    <tr>\n",
              "      <th>26</th>\n",
              "      <td>2016</td>\n",
              "      <td>98</td>\n",
              "      <td>99</td>\n",
              "    </tr>\n",
              "    <tr>\n",
              "      <th>13</th>\n",
              "      <td>2003</td>\n",
              "      <td>66</td>\n",
              "      <td>70</td>\n",
              "    </tr>\n",
              "    <tr>\n",
              "      <th>15</th>\n",
              "      <td>2005</td>\n",
              "      <td>67</td>\n",
              "      <td>77</td>\n",
              "    </tr>\n",
              "    <tr>\n",
              "      <th>11</th>\n",
              "      <td>2001</td>\n",
              "      <td>57</td>\n",
              "      <td>63</td>\n",
              "    </tr>\n",
              "    <tr>\n",
              "      <th>17</th>\n",
              "      <td>2007</td>\n",
              "      <td>77</td>\n",
              "      <td>84</td>\n",
              "    </tr>\n",
              "    <tr>\n",
              "      <th>1</th>\n",
              "      <td>1991</td>\n",
              "      <td>41</td>\n",
              "      <td>39</td>\n",
              "    </tr>\n",
              "    <tr>\n",
              "      <th>4</th>\n",
              "      <td>1994</td>\n",
              "      <td>47</td>\n",
              "      <td>44</td>\n",
              "    </tr>\n",
              "    <tr>\n",
              "      <th>5</th>\n",
              "      <td>1995</td>\n",
              "      <td>48</td>\n",
              "      <td>49</td>\n",
              "    </tr>\n",
              "    <tr>\n",
              "      <th>2</th>\n",
              "      <td>1992</td>\n",
              "      <td>44</td>\n",
              "      <td>41</td>\n",
              "    </tr>\n",
              "    <tr>\n",
              "      <th>24</th>\n",
              "      <td>2014</td>\n",
              "      <td>98</td>\n",
              "      <td>99</td>\n",
              "    </tr>\n",
              "    <tr>\n",
              "      <th>3</th>\n",
              "      <td>1993</td>\n",
              "      <td>44</td>\n",
              "      <td>42</td>\n",
              "    </tr>\n",
              "    <tr>\n",
              "      <th>23</th>\n",
              "      <td>2013</td>\n",
              "      <td>97</td>\n",
              "      <td>97</td>\n",
              "    </tr>\n",
              "    <tr>\n",
              "      <th>25</th>\n",
              "      <td>2015</td>\n",
              "      <td>102</td>\n",
              "      <td>100</td>\n",
              "    </tr>\n",
              "    <tr>\n",
              "      <th>18</th>\n",
              "      <td>2008</td>\n",
              "      <td>84</td>\n",
              "      <td>87</td>\n",
              "    </tr>\n",
              "    <tr>\n",
              "      <th>28</th>\n",
              "      <td>2018</td>\n",
              "      <td>109</td>\n",
              "      <td>106</td>\n",
              "    </tr>\n",
              "    <tr>\n",
              "      <th>20</th>\n",
              "      <td>2010</td>\n",
              "      <td>88</td>\n",
              "      <td>90</td>\n",
              "    </tr>\n",
              "    <tr>\n",
              "      <th>7</th>\n",
              "      <td>1997</td>\n",
              "      <td>49</td>\n",
              "      <td>53</td>\n",
              "    </tr>\n",
              "    <tr>\n",
              "      <th>10</th>\n",
              "      <td>2000</td>\n",
              "      <td>54</td>\n",
              "      <td>61</td>\n",
              "    </tr>\n",
              "    <tr>\n",
              "      <th>14</th>\n",
              "      <td>2004</td>\n",
              "      <td>68</td>\n",
              "      <td>75</td>\n",
              "    </tr>\n",
              "    <tr>\n",
              "      <th>19</th>\n",
              "      <td>2009</td>\n",
              "      <td>82</td>\n",
              "      <td>87</td>\n",
              "    </tr>\n",
              "    <tr>\n",
              "      <th>6</th>\n",
              "      <td>1996</td>\n",
              "      <td>46</td>\n",
              "      <td>52</td>\n",
              "    </tr>\n",
              "  </tbody>\n",
              "</table>\n",
              "</div>"
            ],
            "text/plain": [
              "    Year  Crop production index  Livestock production index\n",
              "26  2016                     98                          99\n",
              "13  2003                     66                          70\n",
              "15  2005                     67                          77\n",
              "11  2001                     57                          63\n",
              "17  2007                     77                          84\n",
              "1   1991                     41                          39\n",
              "4   1994                     47                          44\n",
              "5   1995                     48                          49\n",
              "2   1992                     44                          41\n",
              "24  2014                     98                          99\n",
              "3   1993                     44                          42\n",
              "23  2013                     97                          97\n",
              "25  2015                    102                         100\n",
              "18  2008                     84                          87\n",
              "28  2018                    109                         106\n",
              "20  2010                     88                          90\n",
              "7   1997                     49                          53\n",
              "10  2000                     54                          61\n",
              "14  2004                     68                          75\n",
              "19  2009                     82                          87\n",
              "6   1996                     46                          52"
            ]
          },
          "metadata": {
            "tags": []
          },
          "execution_count": 34
        }
      ]
    },
    {
      "cell_type": "code",
      "metadata": {
        "colab": {
          "base_uri": "https://localhost:8080/"
        },
        "id": "hjr57tVaKMBw",
        "outputId": "38673a13-faf2-4f02-eea3-fce198539b66"
      },
      "source": [
        "# Logistic Regression\n",
        "from sklearn.linear_model import LogisticRegression\n",
        "from sklearn.metrics import accuracy_score\n",
        "logreg = LogisticRegression()\n",
        "logreg.fit(X_train,y_train)\n",
        "y_pred = logreg.predict(X_train)\n",
        "print('Train accuracy score:',accuracy_score(y_train,y_pred))\n",
        "print('Test accuracy score:', accuracy_score(y_test,logreg.predict(X_test)))"
      ],
      "execution_count": 35,
      "outputs": [
        {
          "output_type": "stream",
          "text": [
            "Train accuracy score: 0.9523809523809523\n",
            "Test accuracy score: 0.0\n"
          ],
          "name": "stdout"
        },
        {
          "output_type": "stream",
          "text": [
            "/usr/local/lib/python3.7/dist-packages/sklearn/utils/validation.py:760: DataConversionWarning: A column-vector y was passed when a 1d array was expected. Please change the shape of y to (n_samples, ), for example using ravel().\n",
            "  y = column_or_1d(y, warn=True)\n",
            "/usr/local/lib/python3.7/dist-packages/sklearn/linear_model/_logistic.py:940: ConvergenceWarning: lbfgs failed to converge (status=1):\n",
            "STOP: TOTAL NO. of ITERATIONS REACHED LIMIT.\n",
            "\n",
            "Increase the number of iterations (max_iter) or scale the data as shown in:\n",
            "    https://scikit-learn.org/stable/modules/preprocessing.html\n",
            "Please also refer to the documentation for alternative solver options:\n",
            "    https://scikit-learn.org/stable/modules/linear_model.html#logistic-regression\n",
            "  extra_warning_msg=_LOGISTIC_SOLVER_CONVERGENCE_MSG)\n"
          ],
          "name": "stderr"
        }
      ]
    },
    {
      "cell_type": "code",
      "metadata": {
        "colab": {
          "base_uri": "https://localhost:8080/"
        },
        "id": "bKaqqvcdKXJN",
        "outputId": "252e1d5c-3566-4b3a-f4cc-f0b74cf5f7e2"
      },
      "source": [
        "# Random Forest Classifier\n",
        "from sklearn.ensemble import RandomForestClassifier as RFC\n",
        "rfc_b = RFC(n_estimators=1000, n_jobs=-1, random_state=0)\n",
        "rfc_b.fit(X_train,y_train)\n",
        "y_pred = rfc_b.predict(X_train)\n",
        "\n",
        "print('Train accuracy score:',accuracy_score(y_train,y_pred))\n",
        "print('Test accuracy score:', accuracy_score(y_test,rfc_b.predict(X_test)))"
      ],
      "execution_count": 37,
      "outputs": [
        {
          "output_type": "stream",
          "text": [
            "/usr/local/lib/python3.7/dist-packages/ipykernel_launcher.py:3: DataConversionWarning: A column-vector y was passed when a 1d array was expected. Please change the shape of y to (n_samples,), for example using ravel().\n",
            "  This is separate from the ipykernel package so we can avoid doing imports until\n"
          ],
          "name": "stderr"
        },
        {
          "output_type": "stream",
          "text": [
            "Train accuracy score: 1.0\n",
            "Test accuracy score: 0.0\n"
          ],
          "name": "stdout"
        }
      ]
    },
    {
      "cell_type": "code",
      "metadata": {
        "colab": {
          "base_uri": "https://localhost:8080/"
        },
        "id": "1QR3zUxDKbPe",
        "outputId": "8d9010e3-1fb7-4071-bc2c-9924c38c6655"
      },
      "source": [
        "# Ridge Regression\n",
        "from sklearn.linear_model import Ridge\n",
        "import numpy as np\n",
        "ridge = Ridge()\n",
        "ridge.fit(X_train,y_train)\n",
        "y_prob = ridge.predict(X_train)\n",
        "y_pred = np.asarray([np.argmax(line) for line in y_prob])\n",
        "yp_test = ridge.predict(X_test)\n",
        "test_preds = np.asarray([np.argmax(line) for line in yp_test])\n",
        "print(accuracy_score(y_train,y_pred))\n",
        "print(accuracy_score(y_test,test_preds))"
      ],
      "execution_count": 38,
      "outputs": [
        {
          "output_type": "stream",
          "text": [
            "0.0\n",
            "0.0\n"
          ],
          "name": "stdout"
        }
      ]
    }
  ]
}